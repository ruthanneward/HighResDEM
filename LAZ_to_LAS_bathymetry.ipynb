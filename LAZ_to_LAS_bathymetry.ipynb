{
 "cells": [
  {
   "cell_type": "code",
   "execution_count": 1,
   "id": "fe9f591e-1d14-4e9b-b834-bf5bd76af337",
   "metadata": {},
   "outputs": [
    {
     "name": "stdout",
     "output_type": "stream",
     "text": [
      "Running LAZ_to_LAS.py\n",
      "working on file: D:\\NOAA\\DATA\\Lidar\\ny2018_ontario_sodusbay\\Job1021416_43076_22_93.las\n",
      "working on file: D:\\NOAA\\DATA\\Lidar\\ny2018_ontario_sodusbay\\Job1021416_43076_22_95.las\n",
      "working on file: D:\\NOAA\\DATA\\Lidar\\ny2018_ontario_sodusbay\\Job1021416_43076_22_97.las\n",
      "working on file: D:\\NOAA\\DATA\\Lidar\\ny2018_ontario_sodusbay\\Job1021416_43076_22_99.las\n",
      "working on file: D:\\NOAA\\DATA\\Lidar\\ny2018_ontario_sodusbay\\Job1021416_43076_24_93.las\n"
     ]
    },
    {
     "ename": "KeyboardInterrupt",
     "evalue": "",
     "output_type": "error",
     "traceback": [
      "\u001b[1;31m---------------------------------------------------------------------------\u001b[0m",
      "\u001b[1;31mKeyboardInterrupt\u001b[0m                         Traceback (most recent call last)",
      "Cell \u001b[1;32mIn[1], line 33\u001b[0m\n\u001b[0;32m     31\u001b[0m                 out_las \u001b[38;5;241m=\u001b[39m in_laz\u001b[38;5;241m.\u001b[39mreplace(\u001b[38;5;124m'\u001b[39m\u001b[38;5;124mlaz\u001b[39m\u001b[38;5;124m'\u001b[39m, \u001b[38;5;124m'\u001b[39m\u001b[38;5;124mlas\u001b[39m\u001b[38;5;124m'\u001b[39m)\n\u001b[0;32m     32\u001b[0m                 \u001b[38;5;28mprint\u001b[39m(\u001b[38;5;124m'\u001b[39m\u001b[38;5;124mworking on file:\u001b[39m\u001b[38;5;124m'\u001b[39m, out_las)\n\u001b[1;32m---> 33\u001b[0m                 \u001b[43mconvert_laz_to_las\u001b[49m\u001b[43m(\u001b[49m\u001b[43min_laz\u001b[49m\u001b[43m,\u001b[49m\u001b[43m \u001b[49m\u001b[43mout_las\u001b[49m\u001b[43m)\u001b[49m\n\u001b[0;32m     35\u001b[0m     \u001b[38;5;28mprint\u001b[39m(\u001b[38;5;124m'\u001b[39m\u001b[38;5;124mFinished without errors - LAZ_to_LAS.py\u001b[39m\u001b[38;5;124m'\u001b[39m)\n\u001b[0;32m     36\u001b[0m \u001b[38;5;28;01mexcept\u001b[39;00m \u001b[38;5;167;01mException\u001b[39;00m \u001b[38;5;28;01mas\u001b[39;00m e:\n",
      "Cell \u001b[1;32mIn[1], line 13\u001b[0m, in \u001b[0;36mconvert_laz_to_las\u001b[1;34m(in_laz, out_las)\u001b[0m\n\u001b[0;32m     11\u001b[0m \u001b[38;5;28;01mdef\u001b[39;00m \u001b[38;5;21mconvert_laz_to_las\u001b[39m(in_laz, out_las):\n\u001b[0;32m     12\u001b[0m     \u001b[38;5;28;01mwith\u001b[39;00m laspy\u001b[38;5;241m.\u001b[39mopen(in_laz) \u001b[38;5;28;01mas\u001b[39;00m las_reader:\n\u001b[1;32m---> 13\u001b[0m         points \u001b[38;5;241m=\u001b[39m \u001b[43mlas_reader\u001b[49m\u001b[38;5;241;43m.\u001b[39;49m\u001b[43mread\u001b[49m\u001b[43m(\u001b[49m\u001b[43m)\u001b[49m  \u001b[38;5;66;03m# Read the points from the LAZ file\u001b[39;00m\n\u001b[0;32m     15\u001b[0m         \u001b[38;5;66;03m# Create a new standard LAS header\u001b[39;00m\n\u001b[0;32m     16\u001b[0m         header \u001b[38;5;241m=\u001b[39m laspy\u001b[38;5;241m.\u001b[39mLasHeader(point_format\u001b[38;5;241m=\u001b[39mpoints\u001b[38;5;241m.\u001b[39mheader\u001b[38;5;241m.\u001b[39mpoint_format, version\u001b[38;5;241m=\u001b[39mpoints\u001b[38;5;241m.\u001b[39mheader\u001b[38;5;241m.\u001b[39mversion)\n",
      "File \u001b[1;32m~\\AppData\\Local\\anaconda3\\envs\\HighResDEM_env\\Lib\\site-packages\\laspy\\lasreader.py:126\u001b[0m, in \u001b[0;36mLasReader.read\u001b[1;34m(self)\u001b[0m\n\u001b[0;32m    119\u001b[0m \u001b[38;5;28;01mdef\u001b[39;00m \u001b[38;5;21mread\u001b[39m(\u001b[38;5;28mself\u001b[39m) \u001b[38;5;241m-\u001b[39m\u001b[38;5;241m>\u001b[39m LasData:\n\u001b[0;32m    120\u001b[0m \u001b[38;5;250m    \u001b[39m\u001b[38;5;124;03m\"\"\"\u001b[39;00m\n\u001b[0;32m    121\u001b[0m \u001b[38;5;124;03m    Reads all the points that are not read and returns a LasData object\u001b[39;00m\n\u001b[0;32m    122\u001b[0m \n\u001b[0;32m    123\u001b[0m \u001b[38;5;124;03m    This will also read EVLRS\u001b[39;00m\n\u001b[0;32m    124\u001b[0m \n\u001b[0;32m    125\u001b[0m \u001b[38;5;124;03m    \"\"\"\u001b[39;00m\n\u001b[1;32m--> 126\u001b[0m     points \u001b[38;5;241m=\u001b[39m \u001b[38;5;28;43mself\u001b[39;49m\u001b[38;5;241;43m.\u001b[39;49m\u001b[43mread_points\u001b[49m\u001b[43m(\u001b[49m\u001b[38;5;241;43m-\u001b[39;49m\u001b[38;5;241;43m1\u001b[39;49m\u001b[43m)\u001b[49m\n\u001b[0;32m    127\u001b[0m     las_data \u001b[38;5;241m=\u001b[39m LasData(header\u001b[38;5;241m=\u001b[39m\u001b[38;5;28mself\u001b[39m\u001b[38;5;241m.\u001b[39mheader, points\u001b[38;5;241m=\u001b[39mpoints)\n\u001b[0;32m    129\u001b[0m     shall_read_evlr \u001b[38;5;241m=\u001b[39m (\n\u001b[0;32m    130\u001b[0m         \u001b[38;5;28mself\u001b[39m\u001b[38;5;241m.\u001b[39mheader\u001b[38;5;241m.\u001b[39mversion\u001b[38;5;241m.\u001b[39mminor \u001b[38;5;241m>\u001b[39m\u001b[38;5;241m=\u001b[39m \u001b[38;5;241m4\u001b[39m\n\u001b[0;32m    131\u001b[0m         \u001b[38;5;129;01mand\u001b[39;00m \u001b[38;5;28mself\u001b[39m\u001b[38;5;241m.\u001b[39mheader\u001b[38;5;241m.\u001b[39mnumber_of_evlrs \u001b[38;5;241m>\u001b[39m \u001b[38;5;241m0\u001b[39m\n\u001b[0;32m    132\u001b[0m         \u001b[38;5;129;01mand\u001b[39;00m \u001b[38;5;28mself\u001b[39m\u001b[38;5;241m.\u001b[39mevlrs \u001b[38;5;129;01mis\u001b[39;00m \u001b[38;5;28;01mNone\u001b[39;00m\n\u001b[0;32m    133\u001b[0m     )\n",
      "File \u001b[1;32m~\\AppData\\Local\\anaconda3\\envs\\HighResDEM_env\\Lib\\site-packages\\laspy\\lasreader.py:107\u001b[0m, in \u001b[0;36mLasReader.read_points\u001b[1;34m(self, n)\u001b[0m\n\u001b[0;32m    103\u001b[0m \u001b[38;5;28;01melse\u001b[39;00m:\n\u001b[0;32m    104\u001b[0m     n \u001b[38;5;241m=\u001b[39m \u001b[38;5;28mmin\u001b[39m(n, points_left)\n\u001b[0;32m    106\u001b[0m r \u001b[38;5;241m=\u001b[39m record\u001b[38;5;241m.\u001b[39mPackedPointRecord\u001b[38;5;241m.\u001b[39mfrom_buffer(\n\u001b[1;32m--> 107\u001b[0m     \u001b[38;5;28;43mself\u001b[39;49m\u001b[38;5;241;43m.\u001b[39;49m\u001b[43mpoint_source\u001b[49m\u001b[38;5;241;43m.\u001b[39;49m\u001b[43mread_n_points\u001b[49m\u001b[43m(\u001b[49m\u001b[43mn\u001b[49m\u001b[43m)\u001b[49m, \u001b[38;5;28mself\u001b[39m\u001b[38;5;241m.\u001b[39mheader\u001b[38;5;241m.\u001b[39mpoint_format\n\u001b[0;32m    108\u001b[0m )\n\u001b[0;32m    109\u001b[0m \u001b[38;5;28;01mif\u001b[39;00m \u001b[38;5;28mlen\u001b[39m(r) \u001b[38;5;241m<\u001b[39m n:\n\u001b[0;32m    110\u001b[0m     logger\u001b[38;5;241m.\u001b[39merror(\u001b[38;5;124mf\u001b[39m\u001b[38;5;124m\"\u001b[39m\u001b[38;5;124mCould only read \u001b[39m\u001b[38;5;132;01m{\u001b[39;00m\u001b[38;5;28mlen\u001b[39m(r)\u001b[38;5;132;01m}\u001b[39;00m\u001b[38;5;124m of the requested \u001b[39m\u001b[38;5;132;01m{\u001b[39;00mn\u001b[38;5;132;01m}\u001b[39;00m\u001b[38;5;124m points\u001b[39m\u001b[38;5;124m\"\u001b[39m)\n",
      "File \u001b[1;32m~\\AppData\\Local\\anaconda3\\envs\\HighResDEM_env\\Lib\\site-packages\\laspy\\_compression\\laszipbackend.py:78\u001b[0m, in \u001b[0;36mLaszipPointReader.read_n_points\u001b[1;34m(self, n)\u001b[0m\n\u001b[0;32m     76\u001b[0m \u001b[38;5;28;01mdef\u001b[39;00m \u001b[38;5;21mread_n_points\u001b[39m(\u001b[38;5;28mself\u001b[39m, n: \u001b[38;5;28mint\u001b[39m) \u001b[38;5;241m-\u001b[39m\u001b[38;5;241m>\u001b[39m \u001b[38;5;28mbytearray\u001b[39m:\n\u001b[0;32m     77\u001b[0m     points_data \u001b[38;5;241m=\u001b[39m \u001b[38;5;28mbytearray\u001b[39m(n \u001b[38;5;241m*\u001b[39m \u001b[38;5;28mself\u001b[39m\u001b[38;5;241m.\u001b[39mpoint_size)\n\u001b[1;32m---> 78\u001b[0m     \u001b[38;5;28;43mself\u001b[39;49m\u001b[38;5;241;43m.\u001b[39;49m\u001b[43munzipper\u001b[49m\u001b[38;5;241;43m.\u001b[39;49m\u001b[43mdecompress_into\u001b[49m\u001b[43m(\u001b[49m\u001b[43mpoints_data\u001b[49m\u001b[43m)\u001b[49m\n\u001b[0;32m     79\u001b[0m     \u001b[38;5;28;01mreturn\u001b[39;00m points_data\n",
      "\u001b[1;31mKeyboardInterrupt\u001b[0m: "
     ]
    }
   ],
   "source": [
    "# Converting LAZ to LAS when using LiDAR that includes bathymetric data\n",
    "# This script was modified from https://github.com/LummiGIS/LAS_tools/blob/main/LAZ_to_LAS.py \n",
    "# Copyright (c) 2021 Lummi-GIS\n",
    "\n",
    "\n",
    "#import packages \n",
    "import sys\n",
    "import traceback\n",
    "import laspy\n",
    "import os\n",
    "\n",
    "# define convert_laz_to_las function\n",
    "try:\n",
    "    print('Running LAZ_to_LAS.py')\n",
    "\n",
    "    def convert_laz_to_las(in_laz, out_las):\n",
    "        with laspy.open(in_laz) as las_reader:\n",
    "            points = las_reader.read()  # Read the points from the LAZ file\n",
    "\n",
    "            # Create a new standard LAS header\n",
    "            header = laspy.LasHeader(point_format=points.header.point_format, version=points.header.version)\n",
    "            header.offsets = points.header.offsets\n",
    "            header.scales = points.header.scales\n",
    "\n",
    "            # Write the points to the LAS file using the new header\n",
    "            with laspy.open(out_las, mode='w', header=header) as las_writer:\n",
    "                las_writer.write_points(points.points)\n",
    "\n",
    "    # set directory where LAZ files are\n",
    "    in_dir = r\"D:\\NOAA\\DATA\\Lidar\\ny2018_ontario_sodusbay\"\n",
    "\n",
    "    for (dirpath, dirnames, filenames) in os.walk(in_dir):\n",
    "        for inFile in filenames:\n",
    "            if inFile.endswith('.laz'):\n",
    "                in_laz = os.path.join(dirpath, inFile)\n",
    "                out_las = in_laz.replace('laz', 'las')\n",
    "                print('working on file:', out_las)\n",
    "                convert_laz_to_las(in_laz, out_las)\n",
    "\n",
    "    print('Finished without errors - LAZ_to_LAS.py')\n",
    "except Exception as e:\n",
    "    tb = sys.exc_info()[2]\n",
    "    tbinfo = traceback.format_tb(tb)[0]\n",
    "    print('Error in read_xmp.py')\n",
    "    print(\"PYTHON ERRORS:\\nTraceback info:\\n\" + tbinfo + \"\\nError Info:\\n\" + str(e))\n"
   ]
  },
  {
   "cell_type": "code",
   "execution_count": null,
   "id": "68bb3d92-7e78-41e9-8698-a9d592c5e76d",
   "metadata": {},
   "outputs": [],
   "source": []
  }
 ],
 "metadata": {
  "kernelspec": {
   "display_name": "Python (HighResDEM_env",
   "language": "python",
   "name": "highresdem_env"
  },
  "language_info": {
   "codemirror_mode": {
    "name": "ipython",
    "version": 3
   },
   "file_extension": ".py",
   "mimetype": "text/x-python",
   "name": "python",
   "nbconvert_exporter": "python",
   "pygments_lexer": "ipython3",
   "version": "3.12.4"
  }
 },
 "nbformat": 4,
 "nbformat_minor": 5
}
