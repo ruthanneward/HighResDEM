{
 "cells": [
  {
   "cell_type": "code",
   "execution_count": null,
   "id": "304a929d-f82c-4161-89e7-6684ceeef1b5",
   "metadata": {},
   "outputs": [],
   "source": [
    "# Converting LAZ to LAS when using LiDAR that includes bathymetric data\n",
    "# This script was modified from https://github.com/LummiGIS/LAS_tools/blob/main/LAZ_to_LAS.py \n",
    "# Copyright (c) 2021 Lummi-GIS\n",
    "\n",
    "\n",
    "#import packages \n",
    "import sys\n",
    "import traceback\n",
    "import laspy\n",
    "import os\n",
    "\n",
    "# define convert_laz_to_las function\n",
    "try:\n",
    "    print('Running LAZ_to_LAS.py')\n",
    "\n",
    "    def convert_laz_to_las(in_laz, out_las):\n",
    "        with laspy.open(in_laz) as las_reader:\n",
    "            points = las_reader.read()  # Read the points from the LAZ file\n",
    "\n",
    "            # Create a new standard LAS header\n",
    "            header = laspy.LasHeader(point_format=points.header.point_format, version=points.header.version)\n",
    "            header.offsets = points.header.offsets\n",
    "            header.scales = points.header.scales\n",
    "\n",
    "            # Write the points to the LAS file using the new header\n",
    "            with laspy.open(out_las, mode='w', header=header) as las_writer:\n",
    "                las_writer.write_points(points.points)\n",
    "\n",
    "    # set directory where LAZ files are\n",
    "    in_dir = \"your\\file\\here\"\n",
    "\n",
    "    for (dirpath, dirnames, filenames) in os.walk(in_dir):\n",
    "        for inFile in filenames:\n",
    "            if inFile.endswith('.laz'):\n",
    "                in_laz = os.path.join(dirpath, inFile)\n",
    "                out_las = in_laz.replace('laz', 'las')\n",
    "                print('working on file:', out_las)\n",
    "                convert_laz_to_las(in_laz, out_las)\n",
    "\n",
    "    print('Finished without errors - LAZ_to_LAS.py')\n",
    "except Exception as e:\n",
    "    tb = sys.exc_info()[2]\n",
    "    tbinfo = traceback.format_tb(tb)[0]\n",
    "    print('Error in read_xmp.py')\n",
    "    print(\"PYTHON ERRORS:\\nTraceback info:\\n\" + tbinfo + \"\\nError Info:\\n\" + str(e))\n"
   ]
  }
 ],
 "metadata": {
  "kernelspec": {
   "display_name": "Python (HighResDEM_env",
   "language": "python",
   "name": "highresdem_env"
  },
  "language_info": {
   "codemirror_mode": {
    "name": "ipython",
    "version": 3
   },
   "file_extension": ".py",
   "mimetype": "text/x-python",
   "name": "python",
   "nbconvert_exporter": "python",
   "pygments_lexer": "ipython3",
   "version": "3.12.4"
  }
 },
 "nbformat": 4,
 "nbformat_minor": 5
}
